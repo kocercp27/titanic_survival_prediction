{
 "cells": [
  {
   "cell_type": "markdown",
   "metadata": {},
   "source": [
    "# Titanic Competition - who survives?"
   ]
  },
  {
   "cell_type": "markdown",
   "metadata": {},
   "source": [
    "This is my attempt at predicting survival for the Kaggle titanic competition. I took a very structured approach to go through each step of the project in detail."
   ]
  },
  {
   "cell_type": "markdown",
   "metadata": {},
   "source": [
    "We are working with the version of the titanic dataset available on Kaggle which should be very easy to find. You need to have the dataset in your working directory to get this notebook to run. Other than that, all that is required is a basic installation of a python environment with data science libraries, for example using anaconda."
   ]
  },
  {
   "cell_type": "markdown",
   "metadata": {},
   "source": [
    "The overall objective is to build a model that predicts whether a person survives the titanic disaster, based on features such as age, sex, ticket fare, etc. As such, this is supervised learning problem, specifically binary classification."
   ]
  },
  {
   "cell_type": "markdown",
   "metadata": {},
   "source": [
    "What are we doing in this notebook:\n",
    "- **Exploratory Data Analysis and Visualisation**: First, we need to understand what we are working with. EDA gives us an initial look at the data and its characteristics before diving into modelling.\n",
    "- **Data Processing**: The raw dataset is not quite ready to be used in a machine learning model, so we'll need to do some data processing, mainly dealing with missing values and encoding categorical features.\n",
    "- **Feature Engineering**: The titanic dataset has been studied extensively by the Kaggle community, and there have been many good suggestions for new features to build. These new features improve the performance of our models.\n",
    "- **Model Selection and Cross Validation**: This is the fun part, where we will build various different models, tune their hyperparameters and assess their performance using cross validation.\n",
    "- **Making Predictions**: The final (optional) part, where we make predictions for the test set, which could be submitted on the competition website."
   ]
  },
  {
   "cell_type": "markdown",
   "metadata": {},
   "source": [
    "Let's get started!"
   ]
  },
  {
   "cell_type": "markdown",
   "metadata": {},
   "source": [
    "# Exploratory Data Analysis and Visualisation"
   ]
  },
  {
   "cell_type": "code",
   "execution_count": 1,
   "metadata": {},
   "outputs": [],
   "source": [
    "# load relevant libraries\n",
    "import math\n",
    "import numpy as np\n",
    "import pandas as pd\n",
    "import matplotlib\n",
    "import matplotlib.pyplot as plt\n",
    "# inline magic\n",
    "%matplotlib inline\n",
    "import seaborn as sns; sns.set()\n",
    "\n",
    "titanic_train_path = 'titanic/train.csv'\n",
    "titanic_test_path = 'titanic/test.csv'\n",
    "\n",
    "# load the training data\n",
    "data_train = pd.read_csv(titanic_train_path)\n",
    "# load test data\n",
    "data_test = pd.read_csv(titanic_test_path)"
   ]
  },
  {
   "cell_type": "markdown",
   "metadata": {},
   "source": [
    "For reference, here is the description of the column names/features:\n",
    "\n",
    "- `PassengerId` is self-explanatory\n",
    "- `Survived` is the target variable we are trying to predict\n",
    "    - **0** means dead, **1** means survived\n",
    "- `PClass`: passenger class (three ordered values 1, 2, and 3) can be used as proxy for socioeconomic status\n",
    "- `SibSp`: Number of siblings - or - spouse\n",
    "- `Parch`: Number of parents - or - children\n",
    "- `Ticket`: Ticket number\n",
    "- `Fare`: how much they paid\n",
    "- `Cabin`: which cabin, is missing a lot\n",
    "- `Embarked`: where the passengers boarded the ship **C** = Cherbourg, **Q** = Queenstown, **S** = Southampton"
   ]
  },
  {
   "cell_type": "code",
   "execution_count": 2,
   "metadata": {},
   "outputs": [
    {
     "data": {
      "text/html": [
       "<div>\n",
       "<style scoped>\n",
       "    .dataframe tbody tr th:only-of-type {\n",
       "        vertical-align: middle;\n",
       "    }\n",
       "\n",
       "    .dataframe tbody tr th {\n",
       "        vertical-align: top;\n",
       "    }\n",
       "\n",
       "    .dataframe thead th {\n",
       "        text-align: right;\n",
       "    }\n",
       "</style>\n",
       "<table border=\"1\" class=\"dataframe\">\n",
       "  <thead>\n",
       "    <tr style=\"text-align: right;\">\n",
       "      <th></th>\n",
       "      <th>PassengerId</th>\n",
       "      <th>Survived</th>\n",
       "      <th>Pclass</th>\n",
       "      <th>Name</th>\n",
       "      <th>Sex</th>\n",
       "      <th>Age</th>\n",
       "      <th>SibSp</th>\n",
       "      <th>Parch</th>\n",
       "      <th>Ticket</th>\n",
       "      <th>Fare</th>\n",
       "      <th>Cabin</th>\n",
       "      <th>Embarked</th>\n",
       "    </tr>\n",
       "  </thead>\n",
       "  <tbody>\n",
       "    <tr>\n",
       "      <th>0</th>\n",
       "      <td>1</td>\n",
       "      <td>0</td>\n",
       "      <td>3</td>\n",
       "      <td>Braund, Mr. Owen Harris</td>\n",
       "      <td>male</td>\n",
       "      <td>22.0</td>\n",
       "      <td>1</td>\n",
       "      <td>0</td>\n",
       "      <td>A/5 21171</td>\n",
       "      <td>7.2500</td>\n",
       "      <td>NaN</td>\n",
       "      <td>S</td>\n",
       "    </tr>\n",
       "    <tr>\n",
       "      <th>1</th>\n",
       "      <td>2</td>\n",
       "      <td>1</td>\n",
       "      <td>1</td>\n",
       "      <td>Cumings, Mrs. John Bradley (Florence Briggs Th...</td>\n",
       "      <td>female</td>\n",
       "      <td>38.0</td>\n",
       "      <td>1</td>\n",
       "      <td>0</td>\n",
       "      <td>PC 17599</td>\n",
       "      <td>71.2833</td>\n",
       "      <td>C85</td>\n",
       "      <td>C</td>\n",
       "    </tr>\n",
       "    <tr>\n",
       "      <th>2</th>\n",
       "      <td>3</td>\n",
       "      <td>1</td>\n",
       "      <td>3</td>\n",
       "      <td>Heikkinen, Miss. Laina</td>\n",
       "      <td>female</td>\n",
       "      <td>26.0</td>\n",
       "      <td>0</td>\n",
       "      <td>0</td>\n",
       "      <td>STON/O2. 3101282</td>\n",
       "      <td>7.9250</td>\n",
       "      <td>NaN</td>\n",
       "      <td>S</td>\n",
       "    </tr>\n",
       "    <tr>\n",
       "      <th>3</th>\n",
       "      <td>4</td>\n",
       "      <td>1</td>\n",
       "      <td>1</td>\n",
       "      <td>Futrelle, Mrs. Jacques Heath (Lily May Peel)</td>\n",
       "      <td>female</td>\n",
       "      <td>35.0</td>\n",
       "      <td>1</td>\n",
       "      <td>0</td>\n",
       "      <td>113803</td>\n",
       "      <td>53.1000</td>\n",
       "      <td>C123</td>\n",
       "      <td>S</td>\n",
       "    </tr>\n",
       "    <tr>\n",
       "      <th>4</th>\n",
       "      <td>5</td>\n",
       "      <td>0</td>\n",
       "      <td>3</td>\n",
       "      <td>Allen, Mr. William Henry</td>\n",
       "      <td>male</td>\n",
       "      <td>35.0</td>\n",
       "      <td>0</td>\n",
       "      <td>0</td>\n",
       "      <td>373450</td>\n",
       "      <td>8.0500</td>\n",
       "      <td>NaN</td>\n",
       "      <td>S</td>\n",
       "    </tr>\n",
       "    <tr>\n",
       "      <th>5</th>\n",
       "      <td>6</td>\n",
       "      <td>0</td>\n",
       "      <td>3</td>\n",
       "      <td>Moran, Mr. James</td>\n",
       "      <td>male</td>\n",
       "      <td>NaN</td>\n",
       "      <td>0</td>\n",
       "      <td>0</td>\n",
       "      <td>330877</td>\n",
       "      <td>8.4583</td>\n",
       "      <td>NaN</td>\n",
       "      <td>Q</td>\n",
       "    </tr>\n",
       "    <tr>\n",
       "      <th>6</th>\n",
       "      <td>7</td>\n",
       "      <td>0</td>\n",
       "      <td>1</td>\n",
       "      <td>McCarthy, Mr. Timothy J</td>\n",
       "      <td>male</td>\n",
       "      <td>54.0</td>\n",
       "      <td>0</td>\n",
       "      <td>0</td>\n",
       "      <td>17463</td>\n",
       "      <td>51.8625</td>\n",
       "      <td>E46</td>\n",
       "      <td>S</td>\n",
       "    </tr>\n",
       "    <tr>\n",
       "      <th>7</th>\n",
       "      <td>8</td>\n",
       "      <td>0</td>\n",
       "      <td>3</td>\n",
       "      <td>Palsson, Master. Gosta Leonard</td>\n",
       "      <td>male</td>\n",
       "      <td>2.0</td>\n",
       "      <td>3</td>\n",
       "      <td>1</td>\n",
       "      <td>349909</td>\n",
       "      <td>21.0750</td>\n",
       "      <td>NaN</td>\n",
       "      <td>S</td>\n",
       "    </tr>\n",
       "    <tr>\n",
       "      <th>8</th>\n",
       "      <td>9</td>\n",
       "      <td>1</td>\n",
       "      <td>3</td>\n",
       "      <td>Johnson, Mrs. Oscar W (Elisabeth Vilhelmina Berg)</td>\n",
       "      <td>female</td>\n",
       "      <td>27.0</td>\n",
       "      <td>0</td>\n",
       "      <td>2</td>\n",
       "      <td>347742</td>\n",
       "      <td>11.1333</td>\n",
       "      <td>NaN</td>\n",
       "      <td>S</td>\n",
       "    </tr>\n",
       "    <tr>\n",
       "      <th>9</th>\n",
       "      <td>10</td>\n",
       "      <td>1</td>\n",
       "      <td>2</td>\n",
       "      <td>Nasser, Mrs. Nicholas (Adele Achem)</td>\n",
       "      <td>female</td>\n",
       "      <td>14.0</td>\n",
       "      <td>1</td>\n",
       "      <td>0</td>\n",
       "      <td>237736</td>\n",
       "      <td>30.0708</td>\n",
       "      <td>NaN</td>\n",
       "      <td>C</td>\n",
       "    </tr>\n",
       "  </tbody>\n",
       "</table>\n",
       "</div>"
      ],
      "text/plain": [
       "   PassengerId  Survived  Pclass  \\\n",
       "0            1         0       3   \n",
       "1            2         1       1   \n",
       "2            3         1       3   \n",
       "3            4         1       1   \n",
       "4            5         0       3   \n",
       "5            6         0       3   \n",
       "6            7         0       1   \n",
       "7            8         0       3   \n",
       "8            9         1       3   \n",
       "9           10         1       2   \n",
       "\n",
       "                                                Name     Sex   Age  SibSp  \\\n",
       "0                            Braund, Mr. Owen Harris    male  22.0      1   \n",
       "1  Cumings, Mrs. John Bradley (Florence Briggs Th...  female  38.0      1   \n",
       "2                             Heikkinen, Miss. Laina  female  26.0      0   \n",
       "3       Futrelle, Mrs. Jacques Heath (Lily May Peel)  female  35.0      1   \n",
       "4                           Allen, Mr. William Henry    male  35.0      0   \n",
       "5                                   Moran, Mr. James    male   NaN      0   \n",
       "6                            McCarthy, Mr. Timothy J    male  54.0      0   \n",
       "7                     Palsson, Master. Gosta Leonard    male   2.0      3   \n",
       "8  Johnson, Mrs. Oscar W (Elisabeth Vilhelmina Berg)  female  27.0      0   \n",
       "9                Nasser, Mrs. Nicholas (Adele Achem)  female  14.0      1   \n",
       "\n",
       "   Parch            Ticket     Fare Cabin Embarked  \n",
       "0      0         A/5 21171   7.2500   NaN        S  \n",
       "1      0          PC 17599  71.2833   C85        C  \n",
       "2      0  STON/O2. 3101282   7.9250   NaN        S  \n",
       "3      0            113803  53.1000  C123        S  \n",
       "4      0            373450   8.0500   NaN        S  \n",
       "5      0            330877   8.4583   NaN        Q  \n",
       "6      0             17463  51.8625   E46        S  \n",
       "7      1            349909  21.0750   NaN        S  \n",
       "8      2            347742  11.1333   NaN        S  \n",
       "9      0            237736  30.0708   NaN        C  "
      ]
     },
     "metadata": {},
     "output_type": "display_data"
    }
   ],
   "source": [
    "# first look at the data\n",
    "display(data_train.head(n=10))"
   ]
  },
  {
   "cell_type": "code",
   "execution_count": 3,
   "metadata": {},
   "outputs": [
    {
     "name": "stdout",
     "output_type": "stream",
     "text": [
      "<class 'pandas.core.frame.DataFrame'>\n",
      "RangeIndex: 891 entries, 0 to 890\n",
      "Data columns (total 12 columns):\n",
      " #   Column       Non-Null Count  Dtype  \n",
      "---  ------       --------------  -----  \n",
      " 0   PassengerId  891 non-null    int64  \n",
      " 1   Survived     891 non-null    int64  \n",
      " 2   Pclass       891 non-null    int64  \n",
      " 3   Name         891 non-null    object \n",
      " 4   Sex          891 non-null    object \n",
      " 5   Age          714 non-null    float64\n",
      " 6   SibSp        891 non-null    int64  \n",
      " 7   Parch        891 non-null    int64  \n",
      " 8   Ticket       891 non-null    object \n",
      " 9   Fare         891 non-null    float64\n",
      " 10  Cabin        204 non-null    object \n",
      " 11  Embarked     889 non-null    object \n",
      "dtypes: float64(2), int64(5), object(5)\n",
      "memory usage: 83.7+ KB\n"
     ]
    },
    {
     "data": {
      "text/plain": [
       "None"
      ]
     },
     "metadata": {},
     "output_type": "display_data"
    }
   ],
   "source": [
    "display(data_train.info())"
   ]
  },
  {
   "cell_type": "code",
   "execution_count": 4,
   "metadata": {},
   "outputs": [
    {
     "data": {
      "text/html": [
       "<div>\n",
       "<style scoped>\n",
       "    .dataframe tbody tr th:only-of-type {\n",
       "        vertical-align: middle;\n",
       "    }\n",
       "\n",
       "    .dataframe tbody tr th {\n",
       "        vertical-align: top;\n",
       "    }\n",
       "\n",
       "    .dataframe thead th {\n",
       "        text-align: right;\n",
       "    }\n",
       "</style>\n",
       "<table border=\"1\" class=\"dataframe\">\n",
       "  <thead>\n",
       "    <tr style=\"text-align: right;\">\n",
       "      <th></th>\n",
       "      <th>PassengerId</th>\n",
       "      <th>Survived</th>\n",
       "      <th>Pclass</th>\n",
       "      <th>Age</th>\n",
       "      <th>SibSp</th>\n",
       "      <th>Parch</th>\n",
       "      <th>Fare</th>\n",
       "    </tr>\n",
       "  </thead>\n",
       "  <tbody>\n",
       "    <tr>\n",
       "      <th>count</th>\n",
       "      <td>891.000000</td>\n",
       "      <td>891.000000</td>\n",
       "      <td>891.000000</td>\n",
       "      <td>714.000000</td>\n",
       "      <td>891.000000</td>\n",
       "      <td>891.000000</td>\n",
       "      <td>891.000000</td>\n",
       "    </tr>\n",
       "    <tr>\n",
       "      <th>mean</th>\n",
       "      <td>446.000000</td>\n",
       "      <td>0.383838</td>\n",
       "      <td>2.308642</td>\n",
       "      <td>29.699118</td>\n",
       "      <td>0.523008</td>\n",
       "      <td>0.381594</td>\n",
       "      <td>32.204208</td>\n",
       "    </tr>\n",
       "    <tr>\n",
       "      <th>std</th>\n",
       "      <td>257.353842</td>\n",
       "      <td>0.486592</td>\n",
       "      <td>0.836071</td>\n",
       "      <td>14.526497</td>\n",
       "      <td>1.102743</td>\n",
       "      <td>0.806057</td>\n",
       "      <td>49.693429</td>\n",
       "    </tr>\n",
       "    <tr>\n",
       "      <th>min</th>\n",
       "      <td>1.000000</td>\n",
       "      <td>0.000000</td>\n",
       "      <td>1.000000</td>\n",
       "      <td>0.420000</td>\n",
       "      <td>0.000000</td>\n",
       "      <td>0.000000</td>\n",
       "      <td>0.000000</td>\n",
       "    </tr>\n",
       "    <tr>\n",
       "      <th>25%</th>\n",
       "      <td>223.500000</td>\n",
       "      <td>0.000000</td>\n",
       "      <td>2.000000</td>\n",
       "      <td>20.125000</td>\n",
       "      <td>0.000000</td>\n",
       "      <td>0.000000</td>\n",
       "      <td>7.910400</td>\n",
       "    </tr>\n",
       "    <tr>\n",
       "      <th>50%</th>\n",
       "      <td>446.000000</td>\n",
       "      <td>0.000000</td>\n",
       "      <td>3.000000</td>\n",
       "      <td>28.000000</td>\n",
       "      <td>0.000000</td>\n",
       "      <td>0.000000</td>\n",
       "      <td>14.454200</td>\n",
       "    </tr>\n",
       "    <tr>\n",
       "      <th>75%</th>\n",
       "      <td>668.500000</td>\n",
       "      <td>1.000000</td>\n",
       "      <td>3.000000</td>\n",
       "      <td>38.000000</td>\n",
       "      <td>1.000000</td>\n",
       "      <td>0.000000</td>\n",
       "      <td>31.000000</td>\n",
       "    </tr>\n",
       "    <tr>\n",
       "      <th>max</th>\n",
       "      <td>891.000000</td>\n",
       "      <td>1.000000</td>\n",
       "      <td>3.000000</td>\n",
       "      <td>80.000000</td>\n",
       "      <td>8.000000</td>\n",
       "      <td>6.000000</td>\n",
       "      <td>512.329200</td>\n",
       "    </tr>\n",
       "  </tbody>\n",
       "</table>\n",
       "</div>"
      ],
      "text/plain": [
       "       PassengerId    Survived      Pclass         Age       SibSp  \\\n",
       "count   891.000000  891.000000  891.000000  714.000000  891.000000   \n",
       "mean    446.000000    0.383838    2.308642   29.699118    0.523008   \n",
       "std     257.353842    0.486592    0.836071   14.526497    1.102743   \n",
       "min       1.000000    0.000000    1.000000    0.420000    0.000000   \n",
       "25%     223.500000    0.000000    2.000000   20.125000    0.000000   \n",
       "50%     446.000000    0.000000    3.000000   28.000000    0.000000   \n",
       "75%     668.500000    1.000000    3.000000   38.000000    1.000000   \n",
       "max     891.000000    1.000000    3.000000   80.000000    8.000000   \n",
       "\n",
       "            Parch        Fare  \n",
       "count  891.000000  891.000000  \n",
       "mean     0.381594   32.204208  \n",
       "std      0.806057   49.693429  \n",
       "min      0.000000    0.000000  \n",
       "25%      0.000000    7.910400  \n",
       "50%      0.000000   14.454200  \n",
       "75%      0.000000   31.000000  \n",
       "max      6.000000  512.329200  "
      ]
     },
     "metadata": {},
     "output_type": "display_data"
    }
   ],
   "source": [
    "display(data_train.describe())"
   ]
  },
  {
   "cell_type": "code",
   "execution_count": 5,
   "metadata": {},
   "outputs": [
    {
     "name": "stdout",
     "output_type": "stream",
     "text": [
      "Sex  Unique values 2\n",
      "Cabin  Unique values 148\n",
      "Embarked  Unique values 4\n",
      "Ticket  Unique values 681\n",
      "Name  Unique values 891\n"
     ]
    }
   ],
   "source": [
    "# List of cat. features\n",
    "cat_features = [\"Sex\", \"Cabin\", \"Embarked\", \"Ticket\", \"Name\"]\n",
    "# list of num features\n",
    "num_features = [\"Age\", \"SibSp\", \"Parch\", \"Fare\", \"Survived\", \"Pclass\"]\n",
    "\n",
    "for f in cat_features:\n",
    "    print(f, \" Unique values\", len(data_train[f].unique()))"
   ]
  },
  {
   "cell_type": "markdown",
   "metadata": {},
   "source": [
    "We can already make a couple of observations from this:\n",
    "- Only about 38% of passengers survived\n",
    "- Age and Cabin are missing a substantial number of values, which we need to deal with in the data processing step\n",
    "- the test set may values missing in other columns, which we should anticipate\n",
    "- Cabin, Ticket, and Name have a large number of unique values, which we need to group and process, or get rid of"
   ]
  },
  {
   "cell_type": "markdown",
   "metadata": {},
   "source": [
    "Let's explore some of this data visually."
   ]
  },
  {
   "cell_type": "code",
   "execution_count": 6,
   "metadata": {},
   "outputs": [
    {
     "data": {
      "image/png": "[encoded data removed]",
      "text/plain": [
       "<Figure size 660.35x288 with 3 Axes>"
      ]
     },
     "metadata": {},
     "output_type": "display_data"
    }
   ],
   "source": [
    "# plot survival breakdown by sex and pclass\n",
    "sns.catplot(data=data_train, x='Sex', hue='Survived', col='Pclass', kind='count', height=4, aspect=0.7);"
   ]
  },
  {
   "cell_type": "markdown",
   "metadata": {},
   "source": [
    "This categorical plot clearly shows that there is a survival advantage to being female or upper-class. Women in the first and second class have very high survival rates, and even for third class women, the survival rate is almost 50%. Men are not as lucky, second and third class men have it especially bad."
   ]
  },
  {
   "cell_type": "code",
   "execution_count": 7,
   "metadata": {},
   "outputs": [
    {
     "data": {
      "image/png": "[encoded data removed]",
      "text/plain": [
       "<Figure size 720x360 with 1 Axes>"
      ]
     },
     "metadata": {},
     "output_type": "display_data"
    }
   ],
   "source": [
    "# plot fare distribution\n",
    "sns.displot(data=data_train, x='Fare', kind='hist', aspect=2)\n",
    "plt.xlim([0,data_train['Fare'].max()]);"
   ]
  },
  {
   "cell_type": "markdown",
   "metadata": {},
   "source": [
    "The distribution of the ticket fare is very skewed, with a long tail towards high ticket fares. Most passengers paid below 50 units of currency for their ticket."
   ]
  },
  {
   "cell_type": "code",
   "execution_count": 8,
   "metadata": {},
   "outputs": [
    {
     "data": {
      "image/png": "[encoded data removed]",
      "text/plain": [
       "<Figure size 595.55x360 with 1 Axes>"
      ]
     },
     "metadata": {},
     "output_type": "display_data"
    }
   ],
   "source": [
    "# plot fare breakdown by survival in ecdf plot\n",
    "sns.displot(data=data_train, x='Fare', hue='Survived', kind='ecdf', aspect=1.5)\n",
    "plt.xlim([0,300]);"
   ]
  },
  {
   "cell_type": "markdown",
   "metadata": {},
   "source": [
    "The empirical cumulative distribution function allows us to check if passenger who survived paid more for their tickets. It seems that this is the case: the ECDFs for dead and survivors are quite different, with the ECDF for the survivors being offset towards higher ticket fare."
   ]
  },
  {
   "cell_type": "code",
   "execution_count": 9,
   "metadata": {},
   "outputs": [
    {
     "data": {
      "image/png": "[encoded data removed]",
      "text/plain": [
       "<Figure size 360x360 with 1 Axes>"
      ]
     },
     "metadata": {},
     "output_type": "display_data"
    }
   ],
   "source": [
    "# plot age distribution\n",
    "sns.displot(data=data_train, x='Age', kind='hist')\n",
    "plt.xlim([0.0,80.0]);"
   ]
  },
  {
   "cell_type": "code",
   "execution_count": 10,
   "metadata": {},
   "outputs": [
    {
     "data": {
      "image/png": "[encoded data removed]",
      "text/plain": [
       "<Figure size 432x288 with 1 Axes>"
      ]
     },
     "metadata": {},
     "output_type": "display_data"
    }
   ],
   "source": [
    "# Survival breakdown by age group\n",
    "data_train['Age_group'] = pd.cut(data_train['Age'], [0.0, 10.0, 20.0, 30.0, 40.0, 50.0, 60.0, 70.0, 80.0])\n",
    "grouped_age = data_train.groupby('Age_group')\n",
    "age_survival = grouped_age[['Survived']].agg('mean')\n",
    "sns.barplot(data=age_survival, y=age_survival.index, x='Survived');"
   ]
  },
  {
   "cell_type": "markdown",
   "metadata": {},
   "source": [
    "Difference in survival rates as a function of age are not as clear. Children seem more likely to survive, and older people less likely."
   ]
  },
  {
   "cell_type": "code",
   "execution_count": 11,
   "metadata": {},
   "outputs": [
    {
     "data": {
      "image/png": "[encoded data removed]",
      "text/plain": [
       "<Figure size 432x288 with 1 Axes>"
      ]
     },
     "metadata": {},
     "output_type": "display_data"
    }
   ],
   "source": [
    "# Survival breakdown by Family size\n",
    "data_train['Famsize'] = 1 + data_train['SibSp'] + data_train['Parch']\n",
    "data_train['Famsize_comb'] = pd.cut(data_train['Famsize'], [0.5, 1.5, 2.5, 3.5, 4.5, 5.5, np.inf])\n",
    "\n",
    "grouped_fam = data_train.groupby('Famsize_comb')\n",
    "fam_survival = grouped_fam[['Survived']].agg('mean')\n",
    "sns.barplot(data=fam_survival, y=fam_survival.index, x='Survived')\n",
    "plt.yticks(ticks=[0,1,2,3,4,5], labels=['1', '2', '3', '4', '5', '>5']);"
   ]
  },
  {
   "cell_type": "markdown",
   "metadata": {},
   "source": [
    "Travelling with family (Family size between 2 and 4) also seems to be a survival advantage."
   ]
  },
  {
   "cell_type": "markdown",
   "metadata": {},
   "source": [
    "Some conclusions we can draw from this EDA:\n",
    "- Being female and upper-class is a survival advantage\n",
    "- Passenger who survived had paid higher fares\n",
    "- Children were more likely to survive\n",
    "- Travelling in a family of reasonable size is a survival advantage\n",
    "\n",
    "Based on these observations, it would be useful to construct derived features to include in the model."
   ]
  },
  {
   "cell_type": "markdown",
   "metadata": {},
   "source": [
    "## Data Processing and Feature Engineering"
   ]
  },
  {
   "cell_type": "markdown",
   "metadata": {},
   "source": [
    "We want to build processing pipelines that can be used for both the training and test data. We also want to build a few new, reasonable features that might be useful based on our EDA. It makes sense to this in the same step and to put everything in a pipeline."
   ]
  },
  {
   "cell_type": "code",
   "execution_count": 12,
   "metadata": {},
   "outputs": [],
   "source": [
    "# reload the data (remove the changes we made above)\n",
    "data_train = pd.read_csv(titanic_train_path)"
   ]
  },
  {
   "cell_type": "code",
   "execution_count": 13,
   "metadata": {},
   "outputs": [
    {
     "name": "stdout",
     "output_type": "stream",
     "text": [
      "Unique titles: ['Mr' 'Mrs' 'Miss' 'Master' 'Don' 'Rev' 'Dr' 'Mme' 'Ms' 'Major' 'Lady'\n",
      " 'Sir' 'Mlle' 'Col' 'Capt' 'the Countess' 'Jonkheer']\n"
     ]
    }
   ],
   "source": [
    "# import preprocessing tools\n",
    "from sklearn.impute import SimpleImputer\n",
    "from sklearn.preprocessing import OneHotEncoder, RobustScaler\n",
    "from sklearn.pipeline import Pipeline\n",
    "from sklearn.compose import ColumnTransformer\n",
    "\n",
    "# process name data: only keep the titles\n",
    "titles = data_train[\"Name\"].apply(lambda x: x.split(',')[1].split('.')[0].strip())\n",
    "print(\"Unique titles:\", titles.unique())\n",
    "title_categories = {\n",
    "    'Mr':'Mr',\n",
    "    'Mrs':'Mrs',\n",
    "    'Miss':'Miss',\n",
    "    'Master':'Master',\n",
    "    'Don':'Royalty',\n",
    "    'Rev':'Official',\n",
    "    'Dr':'Official',\n",
    "    'Mme':'Mrs',\n",
    "    'Ms':'Miss',\n",
    "    'Major':'Official',\n",
    "    'Lady':'Royalty',\n",
    "    'Sir':'Royalty',\n",
    "    'Mlle':'Miss',\n",
    "    'Col':'Official',\n",
    "    'Capt':'Official',\n",
    "    'the Countess':'Royalty',\n",
    "    'Jonkheer':'Royalty'\n",
    "}\n",
    "\n",
    "# create family size and adult/child features\n",
    "def preprocess_df(df,title_categories):\n",
    "    df[\"Cabin\"] = df[\"Cabin\"].fillna(\"U\").apply(lambda x: x[0])\n",
    "    df[\"Fare\"] = np.sqrt(df[\"Fare\"])\n",
    "    df[\"Name\"] = df[\"Name\"].apply(lambda x: x.split(',')[1].split('.')[0].strip())\n",
    "    df[\"Title\"] = df[\"Name\"].apply(lambda x: title_categories[x] if x in title_categories.keys() else \"Unknown\")\n",
    "    df[\"FamSizeNum\"] = df[\"SibSp\"] + df[\"Parch\"]\n",
    "    df[\"FamSize\"] = df[\"FamSizeNum\"].apply(lambda x: \"single\" if x == 0 else (\"small\" if x <= 4 else \"large\"))\n",
    "    df[\"TicketType\"] = df[\"Ticket\"].apply(lambda x: 1 if not x.isnumeric() else 0)\n",
    "    df[\"Adult_or_Child\"] = df[\"Age\"].apply(lambda x: \"unknown\" if math.isnan(x) else (\"child\" if x < 18 else \"adult\"))\n",
    "    df = df.drop([\"Ticket\",\"Name\",\"PassengerId\",\"FamSizeNum\"],axis=\"columns\")\n",
    "    return df\n",
    "\n",
    "df_train = preprocess_df(data_train.copy(),title_categories)\n",
    "df_test = preprocess_df(data_test.copy(),title_categories)\n",
    "\n",
    "X_train, y_train = df_train.loc[:,\"Pclass\":], df_train[\"Survived\"]\n",
    "X_test = df_test\n",
    "\n",
    "# update features to reflect the fact that we dropped some columns\n",
    "cat_features = [\"Sex\", \"Cabin\", \"Embarked\",'Title', 'FamSize', 'TicketType', 'Adult_or_Child']\n",
    "num_features = [\"Age\", \"SibSp\", \"Parch\", \"Fare\", \"Pclass\"]\n",
    "\n",
    "# define preprocessing pipeline steps here\n",
    "cat_imputer = SimpleImputer(strategy=\"most_frequent\")\n",
    "OH_enc = OneHotEncoder(handle_unknown=\"ignore\",sparse=False)\n",
    "num_imputer = SimpleImputer(strategy=\"median\",add_indicator=True)\n",
    "robustscale = RobustScaler()\n",
    "\n",
    "cat_transformer = Pipeline(steps=[(\"impute\",cat_imputer),(\"onehot\", OH_enc)])\n",
    "num_transformer = Pipeline(steps=[(\"impute\",num_imputer),(\"scale\", robustscale)])\n",
    "\n",
    "# define preprocessor, will turn the DataFrame into an array of numbers (remove column names)\n",
    "preprocessor = ColumnTransformer(transformers=[('num',num_transformer,num_features),\n",
    "                                              ('cat',cat_transformer,cat_features)])"
   ]
  },
  {
   "cell_type": "markdown",
   "metadata": {},
   "source": [
    "The preprocessing steps defined above can be used in a full pipeline that we'll build now."
   ]
  },
  {
   "cell_type": "markdown",
   "metadata": {},
   "source": [
    "## Model Selection and Cross-Validation"
   ]
  },
  {
   "cell_type": "code",
   "execution_count": 14,
   "metadata": {},
   "outputs": [
    {
     "name": "stdout",
     "output_type": "stream",
     "text": [
      "Score for baseline random forest model: 0.7968614650681063\n"
     ]
    }
   ],
   "source": [
    "# import ML classifier models\n",
    "from sklearn.ensemble import RandomForestClassifier\n",
    "from sklearn.tree import DecisionTreeClassifier\n",
    "from sklearn.svm import SVC\n",
    "from xgboost import XGBClassifier\n",
    "from sklearn.naive_bayes import GaussianNB\n",
    "from sklearn.neighbors import KNeighborsClassifier\n",
    "from sklearn.linear_model import LogisticRegression\n",
    "# Validation and parameter tuning\n",
    "from sklearn.model_selection import cross_val_score, GridSearchCV\n",
    "\n",
    "# try baseline random forest model\n",
    "rf_model = RandomForestClassifier()\n",
    "pipe_model = Pipeline(steps=[('preproc', preprocessor), ('model', rf_model)])\n",
    "cv_scores = cross_val_score(pipe_model, X_train, y_train, cv=5)\n",
    "print('Score for baseline random forest model:', sum(cv_scores)/len(cv_scores))"
   ]
  },
  {
   "cell_type": "code",
   "execution_count": null,
   "metadata": {},
   "outputs": [],
   "source": [
    "# optimise RF model with grid search cv\n",
    "\n",
    "param_grid = {'model__max_depth' : [8, 10, 12],\n",
    "                 'model__n_estimators': [50, 10],\n",
    "                 'model__max_features': ['sqrt'],\n",
    "                 'model__min_samples_split': [2, 3, 10],\n",
    "                 'model__min_samples_leaf': [1, 3, 10],\n",
    "                 'model__bootstrap': [True, False],\n",
    "                 }\n",
    "\n",
    "rf_model = RandomForestClassifier()\n",
    "pipe_model = Pipeline(steps=[('preproc', preprocessor), ('model', rf_model)])\n",
    "grid_search = GridSearchCV(pipe_model, scoring='accuracy', param_grid=param_grid, refit=True)\n",
    "\n",
    "grid_search = grid_search.fit(X_train, y_train)\n",
    "best_rf = grid_search.best_estimator_\n",
    "parameters = grid_search.best_params_\n",
    "print('Best (cv-opt) score for random forest: {}'.format(grid_search.best_score_))"
   ]
  },
  {
   "cell_type": "code",
   "execution_count": null,
   "metadata": {},
   "outputs": [],
   "source": [
    "# let's run over a few more models\n",
    "\n",
    "def select_model(name, model, preprocessor, param_grid):\n",
    "    \"\"\" Run baseline and grid search CV optimised models and get scores.\n",
    "        Return best estimator. \"\"\"\n",
    "    # baseline model\n",
    "    pipe_model = Pipeline(steps=[(\"preproc\",preprocessor),(\"model\",model)])\n",
    "    scores = cross_val_score(pipe_model,X_train,y_train,cv=5)\n",
    "    print(\"Baseline {} score:\".format(name), sum(scores)/len(scores))\n",
    "    # optimised model\n",
    "    pipe_model = Pipeline(steps=[(\"preproc\",preprocessor),(\"model\",model)])\n",
    "    grid_search = GridSearchCV(pipe_model,\n",
    "                               scoring='accuracy',\n",
    "                               param_grid=param_grid,\n",
    "                               cv=5,refit=True)\n",
    "    grid_search = grid_search.fit(X_train, y_train)\n",
    "    print('Best (cv-opt) score: {}'.format(grid_search.best_score_))\n",
    "    print('Best parameters:', grid_search.best_params_)\n",
    "    return grid_search.best_estimator_\n",
    "\n",
    "svc_param_grid = param_grid = {\n",
    "                 'model__C' : [0.3,0.5,1.0,1.5,2.0],\n",
    "                 'model__kernel': ['linear','poly','rbf','sigmoid'],\n",
    "                 'model__degree': [2,3,4],\n",
    "                 'model__gamma': ['scale','auto'],\n",
    "                 }\n",
    "\n",
    "# find best SVC\n",
    "best_svc = select_model('SVC', SVC(), preprocessor, svc_param_grid)"
   ]
  },
  {
   "cell_type": "code",
   "execution_count": null,
   "metadata": {},
   "outputs": [],
   "source": [
    "# find the best log reg\n",
    "logreg_param_grid = {\n",
    "                 'model__penalty' : ['l2'],\n",
    "                 'model__C': [0.25, 0.5, 0.75, 1.0, 1.25, 1.5, 1.75]\n",
    "                 }\n",
    "\n",
    "best_logreg = select_model('Log Reg', LogisticRegression(), preprocessor, logreg_param_grid)"
   ]
  },
  {
   "cell_type": "code",
   "execution_count": null,
   "metadata": {},
   "outputs": [],
   "source": [
    "# best knn model\n",
    "knn_param_grid = {'model__n_neighbors' : [3,4,5,6,7,8],\n",
    "                 'model__weights': ['uniform','distance']\n",
    "                 }\n",
    "\n",
    "best_knn = select_model('KNN', KNeighborsClassifier(), preprocessor, knn_param_grid)"
   ]
  },
  {
   "cell_type": "markdown",
   "metadata": {},
   "source": [
    "## Detailed Model Assessment: Logistic Regression"
   ]
  },
  {
   "cell_type": "markdown",
   "metadata": {},
   "source": [
    "GridSearchCV is great for finding optimal model hyperparameters, but it's not the most convenient when we're trying to analyse a series of performance metrics for the same model. It that case, StratifiedKFold is easier to work with."
   ]
  },
  {
   "cell_type": "code",
   "execution_count": null,
   "metadata": {},
   "outputs": [],
   "source": [
    "from sklearn.model_selection import StratifiedKFold\n",
    "from sklearn.metrics import accuracy_score, precision_score, recall_score, auc, plot_roc_curve\n",
    "\n",
    "# initialise stratified k fold\n",
    "cv = StratifiedKFold(n_splits=5)\n",
    "# use regularization parameter from above\n",
    "classifier = Pipeline(steps=[('preproc', preprocessor), ('logreg', LogisticRegression(C=1.5))])\n",
    "\n",
    "# metrics to keep track of across folds\n",
    "true_pos_rates = []\n",
    "aucs = []\n",
    "mean_fpr = np.linspace(0, 1, 100)\n",
    "acc = []\n",
    "prec = []\n",
    "recall = []\n",
    "\n",
    "# plot ROC curves and save metrics for each fold\n",
    "fig, ax = plt.subplots(figsize=[10.0,8.0])\n",
    "for i, (train, test) in enumerate(cv.split(X_train, y_train)):\n",
    "    classifier.fit(X_train.loc[train], y_train.loc[train])\n",
    "    viz = plot_roc_curve(classifier, X_train.loc[test], y_train.loc[test], name='ROC Fold {}'.format(i+1), \n",
    "                         alpha=0.3, lw=1, ax=ax)\n",
    "    interp_tpr = np.interp(mean_fpr, viz.fpr, viz.tpr)\n",
    "    interp_tpr[0] = 0.0\n",
    "    true_pos_rates.append(interp_tpr)\n",
    "    aucs.append(viz.roc_auc)\n",
    "    # other metrics\n",
    "    y_pred = classifier.predict(X_train.loc[test])\n",
    "    acc.append(accuracy_score(y_train.loc[test], y_pred))\n",
    "    prec.append(precision_score(y_train.loc[test], y_pred))\n",
    "    recall.append(recall_score(y_train.loc[test], y_pred))\n",
    "    \n",
    "print('Average accuracy:',np.mean(acc))\n",
    "print('Average precision:',np.mean(prec))\n",
    "print('Average recall:',np.mean(recall))\n",
    "    \n",
    "ax.plot([0, 1], [0, 1], linestyle='--', lw=2, color='r',\n",
    "        label='Chance', alpha=.8)\n",
    "mean_tpr = np.mean(true_pos_rates, axis=0)\n",
    "mean_tpr[-1] = 1.0\n",
    "mean_auc = auc(mean_fpr, mean_tpr)\n",
    "std_auc = np.std(aucs)\n",
    "ax.plot(mean_fpr, mean_tpr, color='b',\n",
    "        label=r'Mean ROC (AUC = %0.2f $\\pm$ %0.2f)' % (mean_auc, std_auc),\n",
    "        lw=2, alpha=.8)\n",
    "\n",
    "# standard deviation of the mean ROC curve\n",
    "std_tpr = np.std(true_pos_rates, axis=0)\n",
    "tprs_upper = np.minimum(mean_tpr + std_tpr, 1)\n",
    "tprs_lower = np.maximum(mean_tpr - std_tpr, 0)\n",
    "ax.fill_between(mean_fpr, tprs_lower, tprs_upper, color='grey', alpha=.2,\n",
    "                label=r'$\\pm$ 1 std. dev.')\n",
    "\n",
    "ax.set(xlim=[-0.05, 1.05], ylim=[-0.05, 1.05],\n",
    "       title=\"Receiver operating characteristic - Titanic Logistic Regression\")\n",
    "ax.legend(loc=\"lower right\");"
   ]
  },
  {
   "cell_type": "markdown",
   "metadata": {},
   "source": [
    "## Who is the luckiest survivor?\n",
    "\n",
    "With models that predict probabilities, we can try to find the luckiest survivor: the person whose probablity of survival is lowest, but who still made it. Let's try this with our logistic regression. In principle, we should do this with leave-one-out cross validation, but here I'll stick with the already trained model."
   ]
  },
  {
   "cell_type": "code",
   "execution_count": null,
   "metadata": {},
   "outputs": [],
   "source": [
    "# order of classes in the model\n",
    "best_logreg.classes_"
   ]
  },
  {
   "cell_type": "code",
   "execution_count": null,
   "metadata": {},
   "outputs": [],
   "source": [
    "passenger_info = data_train.copy()\n",
    "passenger_info['pred_surv_prob'] = best_logreg.predict_proba(X_train)[:,1]"
   ]
  },
  {
   "cell_type": "code",
   "execution_count": null,
   "metadata": {},
   "outputs": [],
   "source": [
    "passenger_info[passenger_info['Survived'] == 1].sort_values('pred_surv_prob').head(n=10)"
   ]
  },
  {
   "cell_type": "markdown",
   "metadata": {},
   "source": [
    "Based on this, Mr. Karl Edwart Dahl is the luckiest survivor. Looking at the first few rows of the dataframe, we see that there are a whole number of other men with low predicted survival probabilities that still made it. This makes sense based on the patterns that we observed in the very beginning: All of them are adult men, travelling in second or third class, with low fares and often without family."
   ]
  },
  {
   "cell_type": "markdown",
   "metadata": {},
   "source": [
    "# Competition predictions"
   ]
  },
  {
   "cell_type": "markdown",
   "metadata": {},
   "source": [
    "Here we make final predictions for the test set using the previously trained models."
   ]
  },
  {
   "cell_type": "code",
   "execution_count": null,
   "metadata": {},
   "outputs": [],
   "source": [
    "predictions = data_test.copy()\n",
    "predictions['Survived_pred'] = best_rf.predict(X_test)"
   ]
  },
  {
   "cell_type": "code",
   "execution_count": null,
   "metadata": {},
   "outputs": [],
   "source": [
    "predictions[['PassengerId', 'Survived_pred']]"
   ]
  }
 ],
 "metadata": {
  "kernelspec": {
   "display_name": "Python 3",
   "language": "python",
   "name": "python3"
  },
  "language_info": {
   "codemirror_mode": {
    "name": "ipython",
    "version": 3
   },
   "file_extension": ".py",
   "mimetype": "text/x-python",
   "name": "python",
   "nbconvert_exporter": "python",
   "pygments_lexer": "ipython3",
   "version": "3.7.4"
  }
 },
 "nbformat": 4,
 "nbformat_minor": 4
}
